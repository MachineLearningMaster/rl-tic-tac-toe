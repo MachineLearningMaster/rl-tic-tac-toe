{
 "cells": [
  {
   "cell_type": "markdown",
   "metadata": {},
   "source": [
    "## Tic-Tac-Toe Agent\n",
    "---\n",
    "\n",
    "In this notebook, you will learn to build an RL agent (using Q-learning) that learns to play Numerical Tic-Tac-Toe with odd numbers. The environment is playing randomly with the agent, i.e. its strategy is to put an even number randomly in an empty cell. \n",
    "\n",
    "The following is the layout of the notebook:\n",
    "    - Defining epsilon-greedy strategy\n",
    "    - Tracking state-action pairs for convergence\n",
    "    - Define hyperparameters for the Q-learning algorithm\n",
    "    - Generating episode and applying Q-update equation\n",
    "    - Checking convergence in Q-values"
   ]
  },
  {
   "cell_type": "code",
   "execution_count": 1,
   "metadata": {},
   "outputs": [],
   "source": [
    "%config IPCompleter.greedy = True"
   ]
  },
  {
   "cell_type": "code",
   "execution_count": 2,
   "metadata": {},
   "outputs": [],
   "source": [
    "import collections\n",
    "import numpy as np\n",
    "import random\n",
    "import pickle\n",
    "import time\n",
    "import os\n",
    "\n",
    "from matplotlib import pyplot as plt\n",
    "from itertools import product\n",
    "\n",
    "%matplotlib inline"
   ]
  },
  {
   "cell_type": "markdown",
   "metadata": {},
   "source": [
    "### Environment Class\n",
    "---"
   ]
  },
  {
   "cell_type": "code",
   "execution_count": 3,
   "metadata": {},
   "outputs": [],
   "source": [
    "class TicTacToeEnvironment:\n",
    "    def __init__(self):\n",
    "        \"\"\"initialise the board\"\"\"\n",
    "\n",
    "        # initialise state as an array\n",
    "        self.state = [np.nan for _ in range(9)]\n",
    "\n",
    "        # all possible numbers\n",
    "        self.all_possible_numbers = [i for i in range(1, len(self.state) + 1)]\n",
    "\n",
    "        self.reset()\n",
    "\n",
    "    def is_winning(self, curr_state):\n",
    "        \"\"\"Takes state as an input and returns whether any row, column or diagonal has winning sum\n",
    "        Example: Input state- [1, 2, 3, 4, nan, nan, nan, nan, nan]\n",
    "        Output = False\"\"\"\n",
    "\n",
    "        # define possible index collections in each of (horizontal, vertical, diagonal) directions\n",
    "\n",
    "        # 3 horizontal rows of a 3 X 3 playing board\n",
    "        horizontal_indices = [[0, 1, 2], [3, 4, 5], [6, 7, 8]]\n",
    "\n",
    "        # 3 vertical rows of a 3 X 3 playing board\n",
    "        vertical_indices = [[0, 3, 6], [1, 4, 7], [2, 5, 8]]\n",
    "\n",
    "        # 2 diagonal rows : (top left --> bottom right) & (top right --> bottom left)\n",
    "        diagonal_indices = [[0, 4, 8], [2, 4, 6]]\n",
    "\n",
    "        # sum across each group of indices should be equal to 15 to win the game\n",
    "        horizontal_sum = [\n",
    "            np.sum(np.array(curr_state)[i]) for i in horizontal_indices\n",
    "        ]\n",
    "        vertical_sum = [\n",
    "            np.sum(np.array(curr_state)[i]) for i in vertical_indices\n",
    "        ]\n",
    "        diagonal_sum = [\n",
    "            np.sum(np.array(curr_state)[i]) for i in diagonal_indices\n",
    "        ]\n",
    "\n",
    "        horizontal_win = list(filter(lambda x: x == 15, horizontal_sum))\n",
    "        vertical_win = list(filter(lambda x: x == 15, vertical_sum))\n",
    "        diagonal_win = list(filter(lambda x: x == 15, diagonal_sum))\n",
    "\n",
    "        #  game is won if sum across any direction is equal to 15\n",
    "        if len(horizontal_win) != 0 or len(vertical_win) != 0 or len(\n",
    "                diagonal_win) != 0:\n",
    "            return True\n",
    "        else:\n",
    "            return False\n",
    "\n",
    "    def is_terminal(self, curr_state):\n",
    "        # Terminal state could be winning state or when the board is filled up\n",
    "\n",
    "        if self.is_winning(curr_state) == True:\n",
    "            return True, \"Win\"\n",
    "\n",
    "        elif len(self.allowed_positions(curr_state)) == 0:\n",
    "            return True, \"Tie\"\n",
    "\n",
    "        else:\n",
    "            return False, \"Resume\"\n",
    "\n",
    "    def allowed_positions(self, curr_state):\n",
    "        \"\"\"Takes state as an input and returns all indexes that are blank\"\"\"\n",
    "        return [i for i, val in enumerate(curr_state) if np.isnan(val)]\n",
    "\n",
    "    def allowed_values(self, curr_state):\n",
    "        \"\"\"Takes the current state as input and returns all possible (unused) values that can be placed on the board\"\"\"\n",
    "\n",
    "        # fetch all allowed values used in the game\n",
    "        used_values = [val for val in curr_state if not np.isnan(val)]\n",
    "\n",
    "        # RL agent is only allowed to play odd numbers : {1,3,5,7,9}\n",
    "        # fetch numbers which an agent can still play i.e.\n",
    "        # odd numbers which have not been played by the agent so far\n",
    "        agent_values = [\n",
    "            val for val in self.all_possible_numbers\n",
    "            if val not in used_values and val % 2 != 0\n",
    "        ]\n",
    "\n",
    "        # environment is only allowed to play even numbers : {2,4,6,8}\n",
    "        # fetch numbers which environment can still play i.e.\n",
    "        # even numbers which have not been played by the environment so far\n",
    "        env_values = [\n",
    "            val for val in self.all_possible_numbers\n",
    "            if val not in used_values and val % 2 == 0\n",
    "        ]\n",
    "\n",
    "        return (agent_values, env_values)\n",
    "\n",
    "    def action_space(self, curr_state):\n",
    "        \"\"\"Takes the current state as input and returns all possible actions, i.e, all combinations of allowed positions and allowed values\"\"\"\n",
    "\n",
    "        allowed_positions = self.allowed_positions(curr_state)\n",
    "        allowed_values = self.allowed_values(curr_state)\n",
    "\n",
    "        # action space of a given space is the cartesian product of all allowed positions and allowed values\n",
    "        agent_actions = product(allowed_positions, allowed_values[0])\n",
    "        env_actions = product(allowed_positions, allowed_values[1])\n",
    "\n",
    "        return (agent_actions, env_actions)\n",
    "\n",
    "    def state_transition(self, curr_state, curr_action):\n",
    "        \"\"\"Takes current state and action and returns the board position just after agent's move.\n",
    "        Example: Input state- [1, 2, 3, 4, nan, nan, nan, nan, nan], action- [7, 9] or [position, value]\n",
    "        Output = [1, 2, 3, 4, nan, nan, nan, 9, nan]\n",
    "        \"\"\"\n",
    "\n",
    "        # current new state variable from existing state\n",
    "        new_state = [i for i in curr_state]\n",
    "\n",
    "        # update current action\n",
    "        new_state[curr_action[0]] = curr_action[1]\n",
    "\n",
    "        return new_state\n",
    "\n",
    "    def step(self, curr_state, curr_action):\n",
    "        \"\"\"Takes current state and action and returns the next state, reward and whether the state is terminal. Hint: First, check the board position after\n",
    "        agent's move, whether the game is won/loss/tied. Then incorporate environment's move and again check the board status.\n",
    "        Example: Input state- [1, 2, 3, 4, nan, nan, nan, nan, nan], action- [7, 9] or [position, value]\n",
    "        Output = ([1, 2, 3, 4, nan, nan, nan, 9, nan], -1, False)\"\"\"\n",
    "\n",
    "        # generate new state after agent's move\n",
    "        new_state = self.state_transition(curr_state, curr_action)\n",
    "\n",
    "        # check if terminal state has been reached i.e.\n",
    "        # either agent has won or it's a tie\n",
    "        has_reached_terminal_state, message = self.is_terminal(new_state)\n",
    "\n",
    "        if has_reached_terminal_state:\n",
    "            # set correct reward and message when game proceeds to a terminal state due to agent move\n",
    "            if message == \"Win\":\n",
    "                reward = 10\n",
    "                game_message = \"Agent Won!\"\n",
    "            else:\n",
    "                reward = 0\n",
    "                game_message = \"It's a tie!\"\n",
    "\n",
    "            return (new_state, reward, has_reached_terminal_state,\n",
    "                    game_message)\n",
    "        else:\n",
    "            # game is not in terminal state\n",
    "\n",
    "            # generate random environment action\n",
    "            _, env_actions = self.action_space(new_state)\n",
    "            env_action = random.choice(\n",
    "                [ac for i, ac in enumerate(env_actions)])\n",
    "\n",
    "            # move to new state due to environment action\n",
    "            new_state_post_env_action = self.state_transition(\n",
    "                new_state, env_action)\n",
    "\n",
    "            # check if environment action results in a terminal state\n",
    "            has_reached_terminal_state, message = self.is_terminal(\n",
    "                new_state_post_env_action)\n",
    "\n",
    "            # decide whether environment has won, it's a tie or game can continue further\n",
    "            if has_reached_terminal_state:\n",
    "                if message == \"Win\":\n",
    "                    reward = -10\n",
    "                    game_message = \"Environment Won!\"\n",
    "                else:\n",
    "                    reward = 0\n",
    "                    game_message = \"It's a tie!\"\n",
    "            else:\n",
    "                reward = -1\n",
    "                game_message = \"Resume\"\n",
    "\n",
    "            return (\n",
    "                new_state_post_env_action,\n",
    "                reward,\n",
    "                has_reached_terminal_state,\n",
    "                game_message,\n",
    "            )\n",
    "\n",
    "    def reset(self):\n",
    "        return self.state"
   ]
  },
  {
   "cell_type": "markdown",
   "metadata": {},
   "source": [
    "### Helper Functions\n",
    "---"
   ]
  },
  {
   "cell_type": "markdown",
   "metadata": {},
   "source": [
    "#### convert state array into a string to be used as a key in Q - Dictionary\n",
    "\n",
    ">  for a given state :\n",
    "-  x | 4 | 5\n",
    "-  3 | 8 | x\n",
    "-  x | x | x\n",
    "   \n",
    "*generated key :* **x-4-5-3-8-x-x-x-x**"
   ]
  },
  {
   "cell_type": "code",
   "execution_count": 4,
   "metadata": {},
   "outputs": [],
   "source": [
    "def generate_state_key(state):\n",
    "\n",
    "    return ('-'.join(str(e) for e in state)).replace('nan', 'x')"
   ]
  },
  {
   "cell_type": "markdown",
   "metadata": {},
   "source": [
    "#### generate valid 'agent' actions for a given state"
   ]
  },
  {
   "cell_type": "code",
   "execution_count": 5,
   "metadata": {},
   "outputs": [],
   "source": [
    "def generate_valid_actions(state):\n",
    "    \n",
    "    possible_agent_actions, possible_env_actions = env.action_space(state)\n",
    "\n",
    "    agent_actions_list = [ac for i, ac in enumerate(possible_agent_actions)]\n",
    "\n",
    "    return agent_actions_list"
   ]
  },
  {
   "cell_type": "markdown",
   "metadata": {},
   "source": [
    "#### add new state to Q - Dictionary"
   ]
  },
  {
   "cell_type": "code",
   "execution_count": 6,
   "metadata": {},
   "outputs": [],
   "source": [
    "def add_state_to_q_dict(state):\n",
    "    # convert new state into Q-dictionary key form\n",
    "    new_state_key = generate_state_key(state)\n",
    "\n",
    "    # calculate valid actions for the given state\n",
    "    agent_actions = generate_valid_actions(state)\n",
    "\n",
    "    if new_state_key not in Q_dict.keys():\n",
    "        for action in agent_actions:\n",
    "            Q_dict[new_state_key][action] = 0"
   ]
  },
  {
   "cell_type": "markdown",
   "metadata": {},
   "source": [
    "#### tracking states initialization"
   ]
  },
  {
   "cell_type": "code",
   "execution_count": 7,
   "metadata": {},
   "outputs": [],
   "source": [
    "def initialise_tracking_states():\n",
    "    state_action_pair = [('x-7-3-x-2-8-x-x-x', (0, 1)),\n",
    "                         ('x-1-2-x-7-x-x-6-x', (3, 3)),\n",
    "                         ('x-1-x-x-x-x-8-6-7', (0, 3)),\n",
    "                         ('6-x-7-x-x-1-x-x-4', (1, 5)),\n",
    "                         ('x-x-x-4-9-2-7-x-x', (1, 1)),\n",
    "                         ('x-x-3-8-2-x-x-x-5', (0, 1)),\n",
    "                         ('3-x-7-x-x-x-x-8-2', (5, 5)),\n",
    "                         ('2-x-1-8-x-7-x-x-x', (4, 3)),\n",
    "                         ('1-x-3-x-6-x-x-4-x', (1, 5))] \n",
    "    for st, ac in state_action_pair:\n",
    "        tracked_states[st][ac] = list()\n",
    "        tracked_rewards[st] = list()"
   ]
  },
  {
   "cell_type": "markdown",
   "metadata": {},
   "source": [
    "#### persisting q-values corresponding to tracked states"
   ]
  },
  {
   "cell_type": "code",
   "execution_count": 8,
   "metadata": {},
   "outputs": [],
   "source": [
    "def save_tracking_states():\n",
    "    for state in tracked_states.keys():\n",
    "        for action in tracked_states[state].keys():\n",
    "            if state in Q_dict and action in Q_dict[state]:\n",
    "                tracked_states[state][action].append(Q_dict[state][action])"
   ]
  },
  {
   "cell_type": "markdown",
   "metadata": {},
   "source": [
    "#### save model object"
   ]
  },
  {
   "cell_type": "code",
   "execution_count": 9,
   "metadata": {},
   "outputs": [],
   "source": [
    "def save_obj(obj, name):\n",
    "    with open(name + '.pkl', 'wb') as f:\n",
    "        pickle.dump(obj, f, pickle.HIGHEST_PROTOCOL)"
   ]
  },
  {
   "cell_type": "markdown",
   "metadata": {},
   "source": [
    "### Epsilon - Greedy Strategy\n",
    "---"
   ]
  },
  {
   "cell_type": "markdown",
   "metadata": {},
   "source": [
    "Epsilon greedy policy is a way of selecting random actions with uniform distribution from a set of available actions. Using this policy either we can select random action with epsilon probability and we can select an action with 1-epsilon probability that gives maximum reward in given state"
   ]
  },
  {
   "cell_type": "markdown",
   "metadata": {},
   "source": [
    "#### check epsilon decay over episodes"
   ]
  },
  {
   "cell_type": "code",
   "execution_count": 10,
   "metadata": {},
   "outputs": [
    {
     "data": {
      "image/png": "[encoded data removed]",
      "text/plain": [
       "<Figure size 432x288 with 1 Axes>"
      ]
     },
     "metadata": {
      "needs_background": "light"
     },
     "output_type": "display_data"
    }
   ],
   "source": [
    "epsilon = []\n",
    "max_epsilon = 1.0\n",
    "min_epsilon = 0.001\n",
    "\n",
    "episodes = np.arange(0, 1000000)\n",
    "\n",
    "for i in episodes:\n",
    "    epsilon.append(min_epsilon +\n",
    "                   (max_epsilon - min_epsilon) * np.exp(-0.000001 * i))\n",
    "\n",
    "plt.plot(episodes, epsilon)\n",
    "plt.show()"
   ]
  },
  {
   "cell_type": "code",
   "execution_count": 11,
   "metadata": {},
   "outputs": [],
   "source": [
    "def select_action_epsilon_greedy(state, episodes):\n",
    "\n",
    "    max_epsilon = 1.0\n",
    "    min_epsilon = 0.001\n",
    "    \n",
    "    random_value = np.random.random()\n",
    "    \n",
    "    # with increase in the number of episodes, epsilon value reduces\n",
    "    # this pushes the system to exploit existing system states\n",
    "    epsilon_value = min_epsilon + (max_epsilon - min_epsilon) * np.exp(-0.00001 * episodes)\n",
    "    \n",
    "    if random_value > epsilon_value:\n",
    "        # exploitation strategy - gets the action corresponding to max q-value for given state\n",
    "        proposed_action = max(Q_dict[generate_state_key(state)],\n",
    "                              key=Q_dict[generate_state_key(state)].get)\n",
    "    else:\n",
    "        # exploration strategy - randomly choose an agent action from allowed action space\n",
    "        proposed_action = random.choice(\n",
    "            [ac for itr, ac in enumerate(env.action_space(state)[0])])\n",
    "    \n",
    "    return proposed_action"
   ]
  },
  {
   "cell_type": "markdown",
   "metadata": {},
   "source": [
    "### Initialization\n",
    "---"
   ]
  },
  {
   "cell_type": "code",
   "execution_count": 12,
   "metadata": {},
   "outputs": [],
   "source": [
    "# environment object\n",
    "env = TicTacToeEnvironment()\n",
    "\n",
    "# q-dictionary used for tracking (state, action) pairs with corresponing q-values\n",
    "Q_dict = collections.defaultdict(dict)\n",
    "\n",
    "# set of states tracked for convergence\n",
    "tracked_states = collections.defaultdict(dict)\n",
    "\n",
    "# set of states tracked for rewards\n",
    "tracked_rewards = collections.defaultdict(dict)\n",
    "\n",
    "initialise_tracking_states()"
   ]
  },
  {
   "cell_type": "markdown",
   "metadata": {},
   "source": [
    "### Hyperparameters\n",
    "---"
   ]
  },
  {
   "cell_type": "code",
   "execution_count": 13,
   "metadata": {},
   "outputs": [],
   "source": [
    "episodes = 1000000\n",
    "\n",
    "learning_rate=0.01\n",
    "gamma = 0.91\n",
    "\n",
    "checkpoint_state_tracking = 1000\n",
    "checkpoint_print_episodes = 10000"
   ]
  },
  {
   "cell_type": "markdown",
   "metadata": {},
   "source": [
    "### Q - Learning\n",
    "---"
   ]
  },
  {
   "cell_type": "code",
   "execution_count": 14,
   "metadata": {
    "collapsed": true
   },
   "outputs": [
    {
     "name": "stdout",
     "output_type": "stream",
     "text": [
      "After playing 10000 games, Agent Won : 0.2517, Environment Won : 0.2798, Tie(s) : 0.4685\n",
      "After playing 20000 games, Agent Won : 0.2516, Environment Won : 0.2818, Tie(s) : 0.4667\n",
      "After playing 30000 games, Agent Won : 0.2519, Environment Won : 0.2813, Tie(s) : 0.4668\n",
      "After playing 40000 games, Agent Won : 0.2517, Environment Won : 0.2817, Tie(s) : 0.4667\n",
      "After playing 50000 games, Agent Won : 0.2542, Environment Won : 0.2802, Tie(s) : 0.4656\n",
      "After playing 60000 games, Agent Won : 0.2553, Environment Won : 0.2794, Tie(s) : 0.4653\n",
      "After playing 70000 games, Agent Won : 0.2556, Environment Won : 0.2792, Tie(s) : 0.4652\n",
      "After playing 80000 games, Agent Won : 0.2565, Environment Won : 0.2780, Tie(s) : 0.4655\n",
      "After playing 90000 games, Agent Won : 0.2569, Environment Won : 0.2777, Tie(s) : 0.4655\n",
      "After playing 100000 games, Agent Won : 0.2579, Environment Won : 0.2768, Tie(s) : 0.4653\n",
      "After playing 110000 games, Agent Won : 0.2589, Environment Won : 0.2760, Tie(s) : 0.4652\n",
      "After playing 120000 games, Agent Won : 0.2605, Environment Won : 0.2757, Tie(s) : 0.4638\n",
      "After playing 130000 games, Agent Won : 0.2616, Environment Won : 0.2750, Tie(s) : 0.4634\n",
      "After playing 140000 games, Agent Won : 0.2629, Environment Won : 0.2750, Tie(s) : 0.4621\n",
      "After playing 150000 games, Agent Won : 0.2637, Environment Won : 0.2748, Tie(s) : 0.4615\n",
      "After playing 160000 games, Agent Won : 0.2654, Environment Won : 0.2740, Tie(s) : 0.4606\n",
      "After playing 170000 games, Agent Won : 0.2669, Environment Won : 0.2737, Tie(s) : 0.4594\n",
      "After playing 180000 games, Agent Won : 0.2684, Environment Won : 0.2735, Tie(s) : 0.4581\n",
      "After playing 190000 games, Agent Won : 0.2701, Environment Won : 0.2730, Tie(s) : 0.4568\n",
      "After playing 200000 games, Agent Won : 0.2716, Environment Won : 0.2721, Tie(s) : 0.4563\n",
      "After playing 210000 games, Agent Won : 0.2730, Environment Won : 0.2712, Tie(s) : 0.4558\n",
      "After playing 220000 games, Agent Won : 0.2745, Environment Won : 0.2705, Tie(s) : 0.4550\n",
      "After playing 230000 games, Agent Won : 0.2757, Environment Won : 0.2701, Tie(s) : 0.4542\n",
      "After playing 240000 games, Agent Won : 0.2773, Environment Won : 0.2689, Tie(s) : 0.4538\n",
      "After playing 250000 games, Agent Won : 0.2787, Environment Won : 0.2681, Tie(s) : 0.4532\n",
      "After playing 260000 games, Agent Won : 0.2797, Environment Won : 0.2675, Tie(s) : 0.4528\n",
      "After playing 270000 games, Agent Won : 0.2812, Environment Won : 0.2667, Tie(s) : 0.4521\n",
      "After playing 280000 games, Agent Won : 0.2822, Environment Won : 0.2660, Tie(s) : 0.4519\n",
      "After playing 290000 games, Agent Won : 0.2836, Environment Won : 0.2652, Tie(s) : 0.4511\n",
      "After playing 300000 games, Agent Won : 0.2849, Environment Won : 0.2645, Tie(s) : 0.4506\n",
      "After playing 310000 games, Agent Won : 0.2860, Environment Won : 0.2640, Tie(s) : 0.4499\n",
      "After playing 320000 games, Agent Won : 0.2873, Environment Won : 0.2634, Tie(s) : 0.4493\n",
      "After playing 330000 games, Agent Won : 0.2887, Environment Won : 0.2630, Tie(s) : 0.4484\n",
      "After playing 340000 games, Agent Won : 0.2899, Environment Won : 0.2622, Tie(s) : 0.4479\n",
      "After playing 350000 games, Agent Won : 0.2914, Environment Won : 0.2617, Tie(s) : 0.4468\n",
      "After playing 360000 games, Agent Won : 0.2927, Environment Won : 0.2612, Tie(s) : 0.4461\n",
      "After playing 370000 games, Agent Won : 0.2937, Environment Won : 0.2607, Tie(s) : 0.4456\n",
      "After playing 380000 games, Agent Won : 0.2949, Environment Won : 0.2600, Tie(s) : 0.4451\n",
      "After playing 390000 games, Agent Won : 0.2962, Environment Won : 0.2594, Tie(s) : 0.4444\n",
      "After playing 400000 games, Agent Won : 0.2970, Environment Won : 0.2591, Tie(s) : 0.4439\n",
      "After playing 410000 games, Agent Won : 0.2982, Environment Won : 0.2586, Tie(s) : 0.4432\n",
      "After playing 420000 games, Agent Won : 0.2995, Environment Won : 0.2582, Tie(s) : 0.4422\n",
      "After playing 430000 games, Agent Won : 0.3008, Environment Won : 0.2577, Tie(s) : 0.4415\n",
      "After playing 440000 games, Agent Won : 0.3022, Environment Won : 0.2571, Tie(s) : 0.4407\n",
      "After playing 450000 games, Agent Won : 0.3033, Environment Won : 0.2568, Tie(s) : 0.4399\n",
      "After playing 460000 games, Agent Won : 0.3043, Environment Won : 0.2564, Tie(s) : 0.4393\n",
      "After playing 470000 games, Agent Won : 0.3052, Environment Won : 0.2561, Tie(s) : 0.4387\n",
      "After playing 480000 games, Agent Won : 0.3063, Environment Won : 0.2556, Tie(s) : 0.4381\n",
      "After playing 490000 games, Agent Won : 0.3074, Environment Won : 0.2551, Tie(s) : 0.4375\n",
      "After playing 500000 games, Agent Won : 0.3083, Environment Won : 0.2549, Tie(s) : 0.4369\n",
      "After playing 510000 games, Agent Won : 0.3093, Environment Won : 0.2545, Tie(s) : 0.4362\n",
      "After playing 520000 games, Agent Won : 0.3103, Environment Won : 0.2542, Tie(s) : 0.4356\n",
      "After playing 530000 games, Agent Won : 0.3112, Environment Won : 0.2539, Tie(s) : 0.4349\n",
      "After playing 540000 games, Agent Won : 0.3120, Environment Won : 0.2535, Tie(s) : 0.4345\n",
      "After playing 550000 games, Agent Won : 0.3127, Environment Won : 0.2532, Tie(s) : 0.4341\n",
      "After playing 560000 games, Agent Won : 0.3136, Environment Won : 0.2529, Tie(s) : 0.4335\n",
      "After playing 570000 games, Agent Won : 0.3147, Environment Won : 0.2526, Tie(s) : 0.4328\n",
      "After playing 580000 games, Agent Won : 0.3158, Environment Won : 0.2521, Tie(s) : 0.4322\n",
      "After playing 590000 games, Agent Won : 0.3167, Environment Won : 0.2518, Tie(s) : 0.4315\n",
      "After playing 600000 games, Agent Won : 0.3175, Environment Won : 0.2515, Tie(s) : 0.4310\n",
      "After playing 610000 games, Agent Won : 0.3184, Environment Won : 0.2512, Tie(s) : 0.4304\n",
      "After playing 620000 games, Agent Won : 0.3193, Environment Won : 0.2510, Tie(s) : 0.4297\n",
      "After playing 630000 games, Agent Won : 0.3203, Environment Won : 0.2505, Tie(s) : 0.4291\n",
      "After playing 640000 games, Agent Won : 0.3213, Environment Won : 0.2501, Tie(s) : 0.4286\n",
      "After playing 650000 games, Agent Won : 0.3223, Environment Won : 0.2498, Tie(s) : 0.4279\n",
      "After playing 660000 games, Agent Won : 0.3232, Environment Won : 0.2494, Tie(s) : 0.4274\n",
      "After playing 670000 games, Agent Won : 0.3241, Environment Won : 0.2491, Tie(s) : 0.4268\n",
      "After playing 680000 games, Agent Won : 0.3249, Environment Won : 0.2489, Tie(s) : 0.4263\n",
      "After playing 690000 games, Agent Won : 0.3257, Environment Won : 0.2486, Tie(s) : 0.4257\n",
      "After playing 700000 games, Agent Won : 0.3265, Environment Won : 0.2483, Tie(s) : 0.4252\n",
      "After playing 710000 games, Agent Won : 0.3274, Environment Won : 0.2481, Tie(s) : 0.4246\n",
      "After playing 720000 games, Agent Won : 0.3283, Environment Won : 0.2477, Tie(s) : 0.4240\n",
      "After playing 730000 games, Agent Won : 0.3291, Environment Won : 0.2474, Tie(s) : 0.4235\n",
      "After playing 740000 games, Agent Won : 0.3301, Environment Won : 0.2471, Tie(s) : 0.4228\n",
      "After playing 750000 games, Agent Won : 0.3308, Environment Won : 0.2469, Tie(s) : 0.4222\n",
      "After playing 760000 games, Agent Won : 0.3316, Environment Won : 0.2467, Tie(s) : 0.4217\n",
      "After playing 770000 games, Agent Won : 0.3325, Environment Won : 0.2464, Tie(s) : 0.4212\n",
      "After playing 780000 games, Agent Won : 0.3333, Environment Won : 0.2461, Tie(s) : 0.4206\n",
      "After playing 790000 games, Agent Won : 0.3341, Environment Won : 0.2458, Tie(s) : 0.4201\n",
      "After playing 800000 games, Agent Won : 0.3349, Environment Won : 0.2455, Tie(s) : 0.4196\n",
      "After playing 810000 games, Agent Won : 0.3357, Environment Won : 0.2453, Tie(s) : 0.4191\n",
      "After playing 820000 games, Agent Won : 0.3365, Environment Won : 0.2449, Tie(s) : 0.4185\n",
      "After playing 830000 games, Agent Won : 0.3373, Environment Won : 0.2447, Tie(s) : 0.4180\n",
      "After playing 840000 games, Agent Won : 0.3381, Environment Won : 0.2444, Tie(s) : 0.4175\n",
      "After playing 850000 games, Agent Won : 0.3389, Environment Won : 0.2441, Tie(s) : 0.4170\n",
      "After playing 860000 games, Agent Won : 0.3397, Environment Won : 0.2438, Tie(s) : 0.4165\n",
      "After playing 870000 games, Agent Won : 0.3406, Environment Won : 0.2435, Tie(s) : 0.4160\n",
      "After playing 880000 games, Agent Won : 0.3415, Environment Won : 0.2432, Tie(s) : 0.4154\n",
      "After playing 890000 games, Agent Won : 0.3422, Environment Won : 0.2429, Tie(s) : 0.4148\n",
      "After playing 900000 games, Agent Won : 0.3432, Environment Won : 0.2426, Tie(s) : 0.4142\n",
      "After playing 910000 games, Agent Won : 0.3440, Environment Won : 0.2424, Tie(s) : 0.4137\n",
      "After playing 920000 games, Agent Won : 0.3448, Environment Won : 0.2421, Tie(s) : 0.4131\n"
     ]
    },
    {
     "name": "stdout",
     "output_type": "stream",
     "text": [
      "After playing 930000 games, Agent Won : 0.3458, Environment Won : 0.2417, Tie(s) : 0.4125\n",
      "After playing 940000 games, Agent Won : 0.3467, Environment Won : 0.2414, Tie(s) : 0.4119\n",
      "After playing 950000 games, Agent Won : 0.3475, Environment Won : 0.2411, Tie(s) : 0.4114\n",
      "After playing 960000 games, Agent Won : 0.3484, Environment Won : 0.2408, Tie(s) : 0.4108\n",
      "After playing 970000 games, Agent Won : 0.3492, Environment Won : 0.2406, Tie(s) : 0.4102\n",
      "After playing 980000 games, Agent Won : 0.3502, Environment Won : 0.2402, Tie(s) : 0.4096\n",
      "After playing 990000 games, Agent Won : 0.3510, Environment Won : 0.2400, Tie(s) : 0.4091\n",
      "After playing 1000000 games, Agent Won : 0.3518, Environment Won : 0.2397, Tie(s) : 0.4084\n",
      "Elapsed time : 2080.7199466228485\n"
     ]
    }
   ],
   "source": [
    "start_time = time.time()\n",
    "\n",
    "agent_won_count = 0\n",
    "env_won_count = 0\n",
    "tie_count = 0\n",
    "\n",
    "reward_state = None\n",
    "\n",
    "for episode in range(episodes):\n",
    "\n",
    "    # build a new environment for this episode\n",
    "    env = TicTacToeEnvironment()\n",
    "\n",
    "    # generate a fresh state for the current environment\n",
    "    current_state = env.state\n",
    "\n",
    "    # add current state to Q - dictionary for Q - learning\n",
    "    add_state_to_q_dict(current_state)\n",
    "    \n",
    "    reward_state = None\n",
    "    \n",
    "    is_terminal_state = False\n",
    "    \n",
    "    # play the game till a terminal state has been reached     \n",
    "    while not is_terminal_state:\n",
    "        \n",
    "        # use the same epsilon greedy strategy for a given episode i.e. 1 game\n",
    "        agent_action = select_action_epsilon_greedy(current_state, episode)\n",
    "        \n",
    "        # given the current state and agent action, move game to the next step\n",
    "        # record - next_state, reward, terminal state         \n",
    "        next_state, reward, is_terminal_state, msg = env.step(\n",
    "            current_state, agent_action)\n",
    "\n",
    "        add_state_to_q_dict(next_state)\n",
    "\n",
    "        current_state_key = generate_state_key(current_state)\n",
    "        reward_state = current_state_key\n",
    "\n",
    "        if is_terminal_state:\n",
    "            # terminal state - either a tie or a win by agent or environment\n",
    "            if msg == \"Agent Won!\":\n",
    "                agent_won_count += 1\n",
    "\n",
    "            elif msg == \"Environment Won!\":\n",
    "                env_won_count += 1\n",
    "                \n",
    "            else:\n",
    "                tie_count += 1\n",
    "                \n",
    "            best_next_action = None\n",
    "            \n",
    "            # in a terminal state, Q - value of next state will be ZERO\n",
    "            Q_dict[generate_state_key(current_state)][agent_action] += learning_rate * (\n",
    "                (reward +\n",
    "                 (gamma * 0)) - Q_dict[generate_state_key(current_state)][agent_action])\n",
    "        else:\n",
    "            # generate 'best next action' corresponding to next state from Q - dictionary\n",
    "            best_next_action = max(Q_dict[generate_state_key(next_state)],\n",
    "                                   key=Q_dict[generate_state_key(next_state)].get)\n",
    "            \n",
    "            # update q-value of (current state, agent action) pair\n",
    "            Q_dict[generate_state_key(current_state)][agent_action] += learning_rate * (\n",
    "                (reward + (gamma *\n",
    "                           (Q_dict[generate_state_key(next_state)][best_next_action]))) -\n",
    "                Q_dict[generate_state_key(current_state)][agent_action])\n",
    "\n",
    "        current_state = next_state\n",
    "        \n",
    "        if reward_state in tracked_rewards.keys():\n",
    "            tracked_rewards[reward_state].append(reward)\n",
    "    \n",
    "    if (episode + 1) % checkpoint_print_episodes == 0:\n",
    "        print(\n",
    "            \"After playing %d games, Agent Won : %.4f, Environment Won : %.4f, Tie(s) : %.4f\"\n",
    "            % (episode + 1, agent_won_count / (episode + 1), env_won_count /\n",
    "               (episode + 1), tie_count / (episode + 1)))\n",
    "\n",
    "    if (episode + 1) % checkpoint_state_tracking == 0:\n",
    "        save_tracking_states()\n",
    "\n",
    "elapsed_time = time.time() - start_time\n",
    "print(\"Elapsed time :\", elapsed_time)"
   ]
  },
  {
   "cell_type": "code",
   "execution_count": 15,
   "metadata": {},
   "outputs": [
    {
     "name": "stdout",
     "output_type": "stream",
     "text": [
      "Number of games won by agent - 351848\n",
      "Number of games won by environment - 239713\n",
      "Number of tie games - 408439\n"
     ]
    }
   ],
   "source": [
    "print('Number of games won by agent - {0}'.format(agent_won_count))\n",
    "\n",
    "print('Number of games won by environment - {0}'.format(env_won_count))\n",
    "\n",
    "print('Number of tie games - {0}'.format(tie_count))"
   ]
  },
  {
   "cell_type": "code",
   "execution_count": 16,
   "metadata": {},
   "outputs": [],
   "source": [
    "save_obj(tracked_states, 'tracked_states')"
   ]
  },
  {
   "cell_type": "markdown",
   "metadata": {},
   "source": [
    "### Q - values convergence\n",
    "---"
   ]
  },
  {
   "cell_type": "code",
   "execution_count": 17,
   "metadata": {},
   "outputs": [
    {
     "data": {
      "text/plain": [
       "defaultdict(dict,\n",
       "            {'x-7-3-x-2-8-x-x-x': {(0, 1): 955},\n",
       "             'x-1-2-x-7-x-x-6-x': {(3, 3): 879},\n",
       "             'x-1-x-x-x-x-8-6-7': {(0, 3): 989},\n",
       "             '6-x-7-x-x-1-x-x-4': {(1, 5): 365},\n",
       "             'x-x-x-4-9-2-7-x-x': {(1, 1): 990},\n",
       "             'x-x-3-8-2-x-x-x-5': {(0, 1): 900},\n",
       "             '3-x-7-x-x-x-x-8-2': {(5, 5): 840},\n",
       "             '2-x-1-8-x-7-x-x-x': {(4, 3): 927},\n",
       "             '1-x-3-x-6-x-x-4-x': {(1, 5): 873}})"
      ]
     },
     "execution_count": 17,
     "metadata": {},
     "output_type": "execute_result"
    }
   ],
   "source": [
    "state_track_val = collections.defaultdict(dict)\n",
    "\n",
    "for state in tracked_states.keys():\n",
    "    for action in tracked_states[state].keys():\n",
    "        qvals = tracked_states[state][action]\n",
    "        total_tracked_values = len(qvals)\n",
    "        state_track_val[state][action] = total_tracked_values\n",
    "            \n",
    "state_track_val"
   ]
  },
  {
   "cell_type": "markdown",
   "metadata": {},
   "source": [
    "#### draw convergence plot for a state - action pair\n",
    "---"
   ]
  },
  {
   "cell_type": "code",
   "execution_count": 18,
   "metadata": {},
   "outputs": [],
   "source": [
    "def plot_q_val_convergence(state, action):\n",
    "\n",
    "    iterations = state_track_val[state][action]\n",
    "    plt.plot(range(0, iterations), tracked_states[state][action])\n",
    "    \n",
    "    \n",
    "    plt.ylabel(\"Q_value\")\n",
    "    \n",
    "    plt.title(\"State : {0} - action : {1}\".format(state, action))\n",
    "    plt.legend([\"Q-value\"], loc=\"lower right\")"
   ]
  },
  {
   "cell_type": "markdown",
   "metadata": {},
   "source": [
    "#### display convergence of tracked states\n",
    "---"
   ]
  },
  {
   "cell_type": "code",
   "execution_count": 19,
   "metadata": {},
   "outputs": [
    {
     "data": {
      "text/plain": [
       "<Figure size 1440x1080 with 0 Axes>"
      ]
     },
     "metadata": {},
     "output_type": "display_data"
    },
    {
     "data": {
      "image/png": "[encoded data removed]",
      "text/plain": [
       "<Figure size 1440x1080 with 10 Axes>"
      ]
     },
     "metadata": {
      "needs_background": "light"
     },
     "output_type": "display_data"
    }
   ],
   "source": [
    "plt.figure(0, figsize=(20, 15))\n",
    "\n",
    "fig, axes = plt.subplots(nrows=5, ncols=2, figsize=(20, 15))\n",
    "fig.tight_layout()\n",
    "\n",
    "subplots = [i for i in range(521, 530)]\n",
    "\n",
    "i = 0\n",
    "\n",
    "for state in state_track_val.keys():\n",
    "    for action in state_track_val[state].keys():\n",
    "        plt.subplot(subplots[i])\n",
    "        plot_q_val_convergence(state, action)\n",
    "        i +=1\n",
    "\n",
    "plt.show()"
   ]
  },
  {
   "cell_type": "markdown",
   "metadata": {},
   "source": [
    "_**Following state - action pairs converged after training the system for 1 million episodes :**_\n",
    "\n",
    "> -  state : x-7-3-x-2-8-x-x-x, action : (0, 1)\n",
    "-  state : x-1-2-x-7-x-x-6-x, action : (3, 3)\n",
    "-  state : x-1-x-x-x-x-8-6-7, action : (0, 3)\n",
    "-  state : 6-x-7-x-x-1-x-x-4, action : (1, 5)\n",
    "-  state : 1-x-3-x-6-x-x-4-x, action : (1, 5)"
   ]
  },
  {
   "cell_type": "code",
   "execution_count": null,
   "metadata": {},
   "outputs": [],
   "source": []
  }
 ],
 "metadata": {
  "kernelspec": {
   "display_name": "Python 3",
   "language": "python",
   "name": "python3"
  },
  "language_info": {
   "codemirror_mode": {
    "name": "ipython",
    "version": 3
   },
   "file_extension": ".py",
   "mimetype": "text/x-python",
   "name": "python",
   "nbconvert_exporter": "python",
   "pygments_lexer": "ipython3",
   "version": "3.7.0"
  }
 },
 "nbformat": 4,
 "nbformat_minor": 2
}

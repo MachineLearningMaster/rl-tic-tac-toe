{
 "cells": [
  {
   "cell_type": "markdown",
   "metadata": {},
   "source": [
    "## Tic-Tac-Toe Agent\n",
    "---\n",
    "\n",
    "In this notebook, you will learn to build an RL agent (using Q-learning) that learns to play Numerical Tic-Tac-Toe with odd numbers. The environment is playing randomly with the agent, i.e. its strategy is to put an even number randomly in an empty cell. \n",
    "\n",
    "The following is the layout of the notebook:\n",
    "    - Defining epsilon-greedy strategy\n",
    "    - Tracking state-action pairs for convergence\n",
    "    - Define hyperparameters for the Q-learning algorithm\n",
    "    - Generating episode and applying Q-update equation\n",
    "    - Checking convergence in Q-values"
   ]
  },
  {
   "cell_type": "code",
   "execution_count": 1,
   "metadata": {},
   "outputs": [],
   "source": [
    "%config IPCompleter.greedy = True"
   ]
  },
  {
   "cell_type": "code",
   "execution_count": 2,
   "metadata": {},
   "outputs": [],
   "source": [
    "import collections\n",
    "import numpy as np\n",
    "import random\n",
    "import pickle\n",
    "import time\n",
    "import os\n",
    "\n",
    "from matplotlib import pyplot as plt\n",
    "from itertools import product\n",
    "\n",
    "%matplotlib inline"
   ]
  },
  {
   "cell_type": "markdown",
   "metadata": {},
   "source": [
    "### Environment Class\n",
    "---"
   ]
  },
  {
   "cell_type": "code",
   "execution_count": 3,
   "metadata": {},
   "outputs": [],
   "source": [
    "class TicTacToeEnvironment:\n",
    "    def __init__(self):\n",
    "        \"\"\"initialise the board\"\"\"\n",
    "\n",
    "        # initialise state as an array\n",
    "        self.state = [np.nan for _ in range(9)]\n",
    "\n",
    "        # all possible numbers\n",
    "        self.all_possible_numbers = [i for i in range(1, len(self.state) + 1)]\n",
    "\n",
    "        self.reset()\n",
    "\n",
    "    def is_winning(self, curr_state):\n",
    "        \"\"\"Takes state as an input and returns whether any row, column or diagonal has winning sum\n",
    "        Example: Input state- [1, 2, 3, 4, nan, nan, nan, nan, nan]\n",
    "        Output = False\"\"\"\n",
    "\n",
    "        # define possible index collections in each of (horizontal, vertical, diagonal) directions\n",
    "\n",
    "        # 3 horizontal rows of a 3 X 3 playing board\n",
    "        horizontal_indices = [[0, 1, 2], [3, 4, 5], [6, 7, 8]]\n",
    "\n",
    "        # 3 vertical rows of a 3 X 3 playing board\n",
    "        vertical_indices = [[0, 3, 6], [1, 4, 7], [2, 5, 8]]\n",
    "\n",
    "        # 2 diagonal rows : (top left --> bottom right) & (top right --> bottom left)\n",
    "        diagonal_indices = [[0, 4, 8], [2, 4, 6]]\n",
    "\n",
    "        # sum across each group of indices should be equal to 15 to win the game\n",
    "        horizontal_sum = [\n",
    "            np.sum(np.array(curr_state)[i]) for i in horizontal_indices\n",
    "        ]\n",
    "        vertical_sum = [\n",
    "            np.sum(np.array(curr_state)[i]) for i in vertical_indices\n",
    "        ]\n",
    "        diagonal_sum = [\n",
    "            np.sum(np.array(curr_state)[i]) for i in diagonal_indices\n",
    "        ]\n",
    "\n",
    "        horizontal_win = list(filter(lambda x: x == 15, horizontal_sum))\n",
    "        vertical_win = list(filter(lambda x: x == 15, vertical_sum))\n",
    "        diagonal_win = list(filter(lambda x: x == 15, diagonal_sum))\n",
    "\n",
    "        #  game is won if sum across any direction is equal to 15\n",
    "        if len(horizontal_win) != 0 or len(vertical_win) != 0 or len(\n",
    "                diagonal_win) != 0:\n",
    "            return True\n",
    "        else:\n",
    "            return False\n",
    "\n",
    "    def is_terminal(self, curr_state):\n",
    "        # Terminal state could be winning state or when the board is filled up\n",
    "\n",
    "        if self.is_winning(curr_state) == True:\n",
    "            return True, \"Win\"\n",
    "\n",
    "        elif len(self.allowed_positions(curr_state)) == 0:\n",
    "            return True, \"Tie\"\n",
    "\n",
    "        else:\n",
    "            return False, \"Resume\"\n",
    "\n",
    "    def allowed_positions(self, curr_state):\n",
    "        \"\"\"Takes state as an input and returns all indexes that are blank\"\"\"\n",
    "        return [i for i, val in enumerate(curr_state) if np.isnan(val)]\n",
    "\n",
    "    def allowed_values(self, curr_state):\n",
    "        \"\"\"Takes the current state as input and returns all possible (unused) values that can be placed on the board\"\"\"\n",
    "\n",
    "        # fetch all allowed values used in the game\n",
    "        used_values = [val for val in curr_state if not np.isnan(val)]\n",
    "\n",
    "        # RL agent is only allowed to play odd numbers : {1,3,5,7,9}\n",
    "        # fetch numbers which an agent can still play i.e.\n",
    "        # odd numbers which have not been played by the agent so far\n",
    "        agent_values = [\n",
    "            val for val in self.all_possible_numbers\n",
    "            if val not in used_values and val % 2 != 0\n",
    "        ]\n",
    "\n",
    "        # environment is only allowed to play even numbers : {2,4,6,8}\n",
    "        # fetch numbers which environment can still play i.e.\n",
    "        # even numbers which have not been played by the environment so far\n",
    "        env_values = [\n",
    "            val for val in self.all_possible_numbers\n",
    "            if val not in used_values and val % 2 == 0\n",
    "        ]\n",
    "\n",
    "        return (agent_values, env_values)\n",
    "\n",
    "    def action_space(self, curr_state):\n",
    "        \"\"\"Takes the current state as input and returns all possible actions, i.e, all combinations of allowed positions and allowed values\"\"\"\n",
    "\n",
    "        allowed_positions = self.allowed_positions(curr_state)\n",
    "        allowed_values = self.allowed_values(curr_state)\n",
    "\n",
    "        # action space of a given space is the cartesian product of all allowed positions and allowed values\n",
    "        agent_actions = product(allowed_positions, allowed_values[0])\n",
    "        env_actions = product(allowed_positions, allowed_values[1])\n",
    "\n",
    "        return (agent_actions, env_actions)\n",
    "\n",
    "    def state_transition(self, curr_state, curr_action):\n",
    "        \"\"\"Takes current state and action and returns the board position just after agent's move.\n",
    "        Example: Input state- [1, 2, 3, 4, nan, nan, nan, nan, nan], action- [7, 9] or [position, value]\n",
    "        Output = [1, 2, 3, 4, nan, nan, nan, 9, nan]\n",
    "        \"\"\"\n",
    "\n",
    "        # current new state variable from existing state\n",
    "        new_state = [i for i in curr_state]\n",
    "\n",
    "        # update current action\n",
    "        new_state[curr_action[0]] = curr_action[1]\n",
    "\n",
    "        return new_state\n",
    "\n",
    "    def step(self, curr_state, curr_action):\n",
    "        \"\"\"Takes current state and action and returns the next state, reward and whether the state is terminal. Hint: First, check the board position after\n",
    "        agent's move, whether the game is won/loss/tied. Then incorporate environment's move and again check the board status.\n",
    "        Example: Input state- [1, 2, 3, 4, nan, nan, nan, nan, nan], action- [7, 9] or [position, value]\n",
    "        Output = ([1, 2, 3, 4, nan, nan, nan, 9, nan], -1, False)\"\"\"\n",
    "\n",
    "        # generate new state after agent's move\n",
    "        new_state = self.state_transition(curr_state, curr_action)\n",
    "\n",
    "        # check if terminal state has been reached i.e.\n",
    "        # either agent has won or it's a tie\n",
    "        has_reached_terminal_state, message = self.is_terminal(new_state)\n",
    "\n",
    "        if has_reached_terminal_state:\n",
    "            # set correct reward and message when game proceeds to a terminal state due to agent move\n",
    "            if message == \"Win\":\n",
    "                reward = 10\n",
    "                game_message = \"Agent Won!\"\n",
    "            else:\n",
    "                reward = 0\n",
    "                game_message = \"It's a tie!\"\n",
    "\n",
    "            return (new_state, reward, has_reached_terminal_state,\n",
    "                    game_message)\n",
    "        else:\n",
    "            # game is not in terminal state\n",
    "\n",
    "            # generate random environment action\n",
    "            _, env_actions = self.action_space(new_state)\n",
    "            env_action = random.choice(\n",
    "                [ac for i, ac in enumerate(env_actions)])\n",
    "\n",
    "            # move to new state due to environment action\n",
    "            new_state_post_env_action = self.state_transition(\n",
    "                new_state, env_action)\n",
    "\n",
    "            # check if environment action results in a terminal state\n",
    "            has_reached_terminal_state, message = self.is_terminal(\n",
    "                new_state_post_env_action)\n",
    "\n",
    "            # decide whether environment has won, it's a tie or game can continue further\n",
    "            if has_reached_terminal_state:\n",
    "                if message == \"Win\":\n",
    "                    reward = -10\n",
    "                    game_message = \"Environment Won!\"\n",
    "                else:\n",
    "                    reward = 0\n",
    "                    game_message = \"It's a tie!\"\n",
    "            else:\n",
    "                reward = -1\n",
    "                game_message = \"Resume\"\n",
    "\n",
    "            return (\n",
    "                new_state_post_env_action,\n",
    "                reward,\n",
    "                has_reached_terminal_state,\n",
    "                game_message,\n",
    "            )\n",
    "\n",
    "    def reset(self):\n",
    "        return self.state"
   ]
  },
  {
   "cell_type": "markdown",
   "metadata": {},
   "source": [
    "### Initialization\n",
    "---"
   ]
  },
  {
   "cell_type": "code",
   "execution_count": 17,
   "metadata": {},
   "outputs": [],
   "source": [
    "# environment object\n",
    "env = TicTacToeEnvironment()\n",
    "\n",
    "# q-dictionary used for tracking (state, action) pairs with corresponing q-values\n",
    "Q_dict = collections.defaultdict(dict)\n",
    "\n",
    "# set of states tracked for convergence\n",
    "tracked_states = collections.defaultdict(dict)"
   ]
  },
  {
   "cell_type": "markdown",
   "metadata": {},
   "source": [
    "### Helper Functions\n",
    "---"
   ]
  },
  {
   "cell_type": "markdown",
   "metadata": {},
   "source": [
    "#### convert state array into a string to be used as a key in Q - Dictionary\n",
    "\n",
    ">  for a given state :\n",
    "-  x | 4 | 5\n",
    "-  3 | 8 | x\n",
    "-  x | x | x\n",
    "   \n",
    "*generated key :* **x-4-5-3-8-x-x-x-x**"
   ]
  },
  {
   "cell_type": "code",
   "execution_count": 5,
   "metadata": {},
   "outputs": [],
   "source": [
    "def generate_state_key(state):\n",
    "\n",
    "    return ('-'.join(str(e) for e in state)).replace('nan', 'x')"
   ]
  },
  {
   "cell_type": "markdown",
   "metadata": {},
   "source": [
    "#### generate valid 'agent' actions for a given state"
   ]
  },
  {
   "cell_type": "code",
   "execution_count": 6,
   "metadata": {},
   "outputs": [],
   "source": [
    "def generate_valid_actions(state):\n",
    "    \n",
    "    possible_agent_actions, possible_env_actions = env.action_space(state)\n",
    "\n",
    "    agent_actions_list = [ac for i, ac in enumerate(possible_agent_actions)]\n",
    "\n",
    "    return agent_actions_list"
   ]
  },
  {
   "cell_type": "markdown",
   "metadata": {},
   "source": [
    "#### add new state to Q - Dictionary"
   ]
  },
  {
   "cell_type": "code",
   "execution_count": 7,
   "metadata": {},
   "outputs": [],
   "source": [
    "def add_state_to_q_dict(state):\n",
    "    # convert new state into Q-dictionary key form\n",
    "    new_state_key = generate_state_key(state)\n",
    "\n",
    "    # calculate valid actions for the given state\n",
    "    agent_actions = generate_valid_actions(state)\n",
    "\n",
    "    if new_state_key not in Q_dict.keys():\n",
    "        for action in agent_actions:\n",
    "            Q_dict[new_state_key][action] = 0"
   ]
  },
  {
   "cell_type": "markdown",
   "metadata": {},
   "source": [
    "#### tracking states initialization"
   ]
  },
  {
   "cell_type": "code",
   "execution_count": 8,
   "metadata": {},
   "outputs": [],
   "source": [
    "def initialise_tracking_states():\n",
    "    state_action_pair = [('x-7-3-x-2-8-x-5-x', (0, 1)),\n",
    "                         ('x-1-2-x-7-x-x-6-x', (3, 3)),\n",
    "                         ('4-x-2-x-5-3-x-x-1', (7, 7)),\n",
    "                         ('6-x-7-x-x-1-x-x-4', (1, 5)),\n",
    "                         ('x-x-x-4-9-2-7-x-x', (1, 1)),\n",
    "                         ('x-x-3-8-2-x-x-x-5', (7, 1)),\n",
    "                         ('3-x-7-x-x-x-x-8-2', (5, 5)),\n",
    "                         ('2-x-1-8-x-7-x-x-x', (4, 3))]\n",
    "    for st, ac in state_action_pair:\n",
    "        tracked_states[st][ac] = list()"
   ]
  },
  {
   "cell_type": "code",
   "execution_count": 18,
   "metadata": {},
   "outputs": [],
   "source": [
    "initialise_tracking_states()"
   ]
  },
  {
   "cell_type": "markdown",
   "metadata": {},
   "source": [
    "#### persisting q-values corresponding to tracked states"
   ]
  },
  {
   "cell_type": "code",
   "execution_count": 10,
   "metadata": {},
   "outputs": [],
   "source": [
    "def save_tracking_states():\n",
    "    for state in tracked_states.keys():\n",
    "        for action in tracked_states[state].keys():\n",
    "            if state in Q_dict and action in Q_dict[state]:\n",
    "                tracked_states[state][action].append(Q_dict[state][action])"
   ]
  },
  {
   "cell_type": "markdown",
   "metadata": {},
   "source": [
    "#### save model object"
   ]
  },
  {
   "cell_type": "code",
   "execution_count": 11,
   "metadata": {},
   "outputs": [],
   "source": [
    "def save_obj(obj, name):\n",
    "    with open(name + '.pkl', 'wb') as f:\n",
    "        pickle.dump(obj, f, pickle.HIGHEST_PROTOCOL)"
   ]
  },
  {
   "cell_type": "markdown",
   "metadata": {},
   "source": [
    "### Epsilon - Greedy Strategy\n",
    "---"
   ]
  },
  {
   "cell_type": "markdown",
   "metadata": {},
   "source": [
    "Epsilon greedy policy is a way of selecting random actions with uniform distribution from a set of available actions. Using this policy either we can select random action with epsilon probability and we can select an action with 1-epsilon probability that gives maximum reward in given state"
   ]
  },
  {
   "cell_type": "markdown",
   "metadata": {},
   "source": [
    "#### check epsilon decay over episodes"
   ]
  },
  {
   "cell_type": "code",
   "execution_count": 12,
   "metadata": {
    "collapsed": true
   },
   "outputs": [
    {
     "data": {
      "image/png": "[encoded data removed]",
      "text/plain": [
       "<Figure size 432x288 with 1 Axes>"
      ]
     },
     "metadata": {
      "needs_background": "light"
     },
     "output_type": "display_data"
    }
   ],
   "source": [
    "epsilon = []\n",
    "max_epsilon = 1.0\n",
    "min_epsilon = 0.001\n",
    "\n",
    "episodes = np.arange(0, 600000)\n",
    "\n",
    "for i in episodes:\n",
    "    epsilon.append(min_epsilon +\n",
    "                   (max_epsilon - min_epsilon) * np.exp(-0.000001 * i))\n",
    "\n",
    "plt.plot(episodes, epsilon)\n",
    "plt.show()"
   ]
  },
  {
   "cell_type": "code",
   "execution_count": 13,
   "metadata": {},
   "outputs": [],
   "source": [
    "def select_action_epsilon_greedy(state, episodes):\n",
    "\n",
    "    max_epsilon = 1.0\n",
    "    min_epsilon = 0.001\n",
    "    \n",
    "    random_value = np.random.random()\n",
    "    \n",
    "    # with increase in the number of episodes, epsilon value reduces\n",
    "    # this pushes the system to exploit existing system states\n",
    "    epsilon_value = min_epsilon + (max_epsilon - min_epsilon) * np.exp(-0.00001 * episodes)\n",
    "    \n",
    "    if random_value > epsilon_value:\n",
    "        # exploitation strategy - gets the action corresponding to max q-value for given state\n",
    "        proposed_action = max(Q_dict[generate_state_key(state)],\n",
    "                              key=Q_dict[generate_state_key(state)].get)\n",
    "    else:\n",
    "        # exploration strategy - randomly choose an agent action from allowed action space\n",
    "        proposed_action = random.choice(\n",
    "            [ac for itr, ac in enumerate(env.action_space(state)[0])])\n",
    "    \n",
    "    return proposed_action"
   ]
  },
  {
   "cell_type": "markdown",
   "metadata": {},
   "source": [
    "### Hyperparameters\n",
    "---"
   ]
  },
  {
   "cell_type": "code",
   "execution_count": 19,
   "metadata": {},
   "outputs": [],
   "source": [
    "episodes = 600000\n",
    "\n",
    "learning_rate=0.01\n",
    "gamma = 0.91\n",
    "\n",
    "checkpoint_state_tracking = 1000\n",
    "checkpoint_print_episodes = 10000"
   ]
  },
  {
   "cell_type": "markdown",
   "metadata": {},
   "source": [
    "### Q - Learning\n",
    "---"
   ]
  },
  {
   "cell_type": "code",
   "execution_count": 20,
   "metadata": {},
   "outputs": [
    {
     "name": "stdout",
     "output_type": "stream",
     "text": [
      "After playing 10000 games, Agent Won : 0.2534, Environment Won : 0.2880, Tie(s) : 0.4586\n",
      "After playing 20000 games, Agent Won : 0.2510, Environment Won : 0.2861, Tie(s) : 0.4629\n",
      "After playing 30000 games, Agent Won : 0.2524, Environment Won : 0.2844, Tie(s) : 0.4631\n",
      "After playing 40000 games, Agent Won : 0.2537, Environment Won : 0.2837, Tie(s) : 0.4626\n",
      "After playing 50000 games, Agent Won : 0.2527, Environment Won : 0.2857, Tie(s) : 0.4616\n",
      "After playing 60000 games, Agent Won : 0.2517, Environment Won : 0.2844, Tie(s) : 0.4639\n",
      "After playing 70000 games, Agent Won : 0.2524, Environment Won : 0.2838, Tie(s) : 0.4639\n",
      "After playing 80000 games, Agent Won : 0.2547, Environment Won : 0.2832, Tie(s) : 0.4621\n",
      "After playing 90000 games, Agent Won : 0.2558, Environment Won : 0.2820, Tie(s) : 0.4622\n",
      "After playing 100000 games, Agent Won : 0.2564, Environment Won : 0.2820, Tie(s) : 0.4616\n",
      "After playing 110000 games, Agent Won : 0.2580, Environment Won : 0.2812, Tie(s) : 0.4608\n",
      "After playing 120000 games, Agent Won : 0.2590, Environment Won : 0.2804, Tie(s) : 0.4606\n",
      "After playing 130000 games, Agent Won : 0.2598, Environment Won : 0.2796, Tie(s) : 0.4606\n",
      "After playing 140000 games, Agent Won : 0.2616, Environment Won : 0.2783, Tie(s) : 0.4600\n",
      "After playing 150000 games, Agent Won : 0.2624, Environment Won : 0.2779, Tie(s) : 0.4597\n",
      "After playing 160000 games, Agent Won : 0.2636, Environment Won : 0.2769, Tie(s) : 0.4595\n",
      "After playing 170000 games, Agent Won : 0.2649, Environment Won : 0.2763, Tie(s) : 0.4587\n",
      "After playing 180000 games, Agent Won : 0.2664, Environment Won : 0.2756, Tie(s) : 0.4580\n",
      "After playing 190000 games, Agent Won : 0.2677, Environment Won : 0.2748, Tie(s) : 0.4575\n",
      "After playing 200000 games, Agent Won : 0.2690, Environment Won : 0.2741, Tie(s) : 0.4569\n",
      "After playing 210000 games, Agent Won : 0.2705, Environment Won : 0.2733, Tie(s) : 0.4563\n",
      "After playing 220000 games, Agent Won : 0.2721, Environment Won : 0.2725, Tie(s) : 0.4555\n",
      "After playing 230000 games, Agent Won : 0.2736, Environment Won : 0.2717, Tie(s) : 0.4547\n",
      "After playing 240000 games, Agent Won : 0.2748, Environment Won : 0.2713, Tie(s) : 0.4539\n",
      "After playing 250000 games, Agent Won : 0.2764, Environment Won : 0.2706, Tie(s) : 0.4530\n",
      "After playing 260000 games, Agent Won : 0.2775, Environment Won : 0.2700, Tie(s) : 0.4524\n",
      "After playing 270000 games, Agent Won : 0.2788, Environment Won : 0.2691, Tie(s) : 0.4521\n",
      "After playing 280000 games, Agent Won : 0.2802, Environment Won : 0.2686, Tie(s) : 0.4512\n",
      "After playing 290000 games, Agent Won : 0.2815, Environment Won : 0.2680, Tie(s) : 0.4506\n",
      "After playing 300000 games, Agent Won : 0.2829, Environment Won : 0.2673, Tie(s) : 0.4498\n",
      "After playing 310000 games, Agent Won : 0.2843, Environment Won : 0.2668, Tie(s) : 0.4490\n",
      "After playing 320000 games, Agent Won : 0.2853, Environment Won : 0.2661, Tie(s) : 0.4485\n",
      "After playing 330000 games, Agent Won : 0.2867, Environment Won : 0.2654, Tie(s) : 0.4478\n",
      "After playing 340000 games, Agent Won : 0.2879, Environment Won : 0.2648, Tie(s) : 0.4473\n",
      "After playing 350000 games, Agent Won : 0.2892, Environment Won : 0.2641, Tie(s) : 0.4468\n",
      "After playing 360000 games, Agent Won : 0.2906, Environment Won : 0.2633, Tie(s) : 0.4461\n",
      "After playing 370000 games, Agent Won : 0.2918, Environment Won : 0.2628, Tie(s) : 0.4454\n",
      "After playing 380000 games, Agent Won : 0.2933, Environment Won : 0.2622, Tie(s) : 0.4445\n",
      "After playing 390000 games, Agent Won : 0.2944, Environment Won : 0.2616, Tie(s) : 0.4440\n",
      "After playing 400000 games, Agent Won : 0.2955, Environment Won : 0.2611, Tie(s) : 0.4434\n",
      "After playing 410000 games, Agent Won : 0.2966, Environment Won : 0.2606, Tie(s) : 0.4427\n",
      "After playing 420000 games, Agent Won : 0.2978, Environment Won : 0.2601, Tie(s) : 0.4421\n",
      "After playing 430000 games, Agent Won : 0.2990, Environment Won : 0.2596, Tie(s) : 0.4415\n",
      "After playing 440000 games, Agent Won : 0.3000, Environment Won : 0.2592, Tie(s) : 0.4408\n",
      "After playing 450000 games, Agent Won : 0.3012, Environment Won : 0.2587, Tie(s) : 0.4402\n",
      "After playing 460000 games, Agent Won : 0.3023, Environment Won : 0.2584, Tie(s) : 0.4394\n",
      "After playing 470000 games, Agent Won : 0.3033, Environment Won : 0.2579, Tie(s) : 0.4388\n",
      "After playing 480000 games, Agent Won : 0.3044, Environment Won : 0.2573, Tie(s) : 0.4382\n",
      "After playing 490000 games, Agent Won : 0.3055, Environment Won : 0.2570, Tie(s) : 0.4374\n",
      "After playing 500000 games, Agent Won : 0.3065, Environment Won : 0.2566, Tie(s) : 0.4369\n",
      "After playing 510000 games, Agent Won : 0.3075, Environment Won : 0.2563, Tie(s) : 0.4362\n",
      "After playing 520000 games, Agent Won : 0.3085, Environment Won : 0.2558, Tie(s) : 0.4357\n",
      "After playing 530000 games, Agent Won : 0.3094, Environment Won : 0.2555, Tie(s) : 0.4352\n",
      "After playing 540000 games, Agent Won : 0.3104, Environment Won : 0.2551, Tie(s) : 0.4346\n",
      "After playing 550000 games, Agent Won : 0.3114, Environment Won : 0.2548, Tie(s) : 0.4339\n",
      "After playing 560000 games, Agent Won : 0.3122, Environment Won : 0.2545, Tie(s) : 0.4333\n",
      "After playing 570000 games, Agent Won : 0.3131, Environment Won : 0.2542, Tie(s) : 0.4327\n",
      "After playing 580000 games, Agent Won : 0.3141, Environment Won : 0.2537, Tie(s) : 0.4321\n",
      "After playing 590000 games, Agent Won : 0.3153, Environment Won : 0.2533, Tie(s) : 0.4314\n",
      "After playing 600000 games, Agent Won : 0.3163, Environment Won : 0.2530, Tie(s) : 0.4307\n",
      "Elapsed time : 1264.9833693504333\n"
     ]
    }
   ],
   "source": [
    "start_time = time.time()\n",
    "\n",
    "agent_won_count = 0\n",
    "env_won_count = 0\n",
    "tie_count = 0\n",
    "total_reward = 0\n",
    "\n",
    "for episode in range(episodes):\n",
    "\n",
    "    # build a new environment for this episode\n",
    "    env = TicTacToeEnvironment()\n",
    "\n",
    "    # generate a fresh state for the current environment\n",
    "    current_state = env.state\n",
    "\n",
    "    # add current state to Q - dictionary for Q - learning\n",
    "    add_state_to_q_dict(current_state)\n",
    "\n",
    "    is_terminal_state = False\n",
    "    \n",
    "    # play the game till a terminal state has been reached     \n",
    "    while not is_terminal_state:\n",
    "        \n",
    "        # use the same epsilon greedy strategy for a given episode i.e. 1 game\n",
    "        agent_action = select_action_epsilon_greedy(current_state, episode)\n",
    "        \n",
    "        # given the current state and agent action, move game to the next step\n",
    "        # record - next_state, reward, terminal state         \n",
    "        next_state, reward, is_terminal_state, msg = env.step(\n",
    "            current_state, agent_action)\n",
    "\n",
    "        add_state_to_q_dict(next_state)\n",
    "\n",
    "        # save the reward #\n",
    "\n",
    "        if is_terminal_state:\n",
    "            # terminal state - either a tie or a win by agent or environment\n",
    "            if msg == \"Agent Won!\":\n",
    "                agent_won_count += 1\n",
    "            elif msg == \"Environment Won!\":\n",
    "                env_won_count += 1\n",
    "            else:\n",
    "                tie_count += 1\n",
    "                \n",
    "            best_next_action = None\n",
    "            \n",
    "            # in a terminal state, Q - value of next state will be ZERO\n",
    "            Q_dict[generate_state_key(current_state)][agent_action] += learning_rate * (\n",
    "                (reward +\n",
    "                 (gamma * 0)) - Q_dict[generate_state_key(current_state)][agent_action])\n",
    "        else:\n",
    "            # generate 'best next action' corresponding to next state from Q - dictionary\n",
    "            best_next_action = max(Q_dict[generate_state_key(next_state)],\n",
    "                                   key=Q_dict[generate_state_key(next_state)].get)\n",
    "            \n",
    "            # update q-value of (current state, agent action) pair\n",
    "            Q_dict[generate_state_key(current_state)][agent_action] += learning_rate * (\n",
    "                (reward + (gamma *\n",
    "                           (Q_dict[generate_state_key(next_state)][best_next_action]))) -\n",
    "                Q_dict[generate_state_key(current_state)][agent_action])\n",
    "\n",
    "        current_state = next_state\n",
    "\n",
    "    if (episode + 1) % checkpoint_print_episodes == 0:\n",
    "        print(\n",
    "            \"After playing %d games, Agent Won : %.4f, Environment Won : %.4f, Tie(s) : %.4f\"\n",
    "            % (episode + 1, agent_won_count / (episode + 1), env_won_count /\n",
    "               (episode + 1), tie_count / (episode + 1)))\n",
    "\n",
    "    if (episode + 1) % checkpoint_state_tracking == 0:\n",
    "        save_tracking_states()\n",
    "\n",
    "elapsed_time = time.time() - start_time\n",
    "print(\"Elapsed time :\", elapsed_time)"
   ]
  },
  {
   "cell_type": "code",
   "execution_count": 21,
   "metadata": {
    "collapsed": true
   },
   "outputs": [
    {
     "name": "stdout",
     "output_type": "stream",
     "text": [
      "Number of games won by agent - 189791\n",
      "Number of games won by environment - 151786\n",
      "Number of tie games - 258423\n"
     ]
    }
   ],
   "source": [
    "print('Number of games won by agent - {0}'.format(agent_won_count))\n",
    "\n",
    "print('Number of games won by environment - {0}'.format(env_won_count))\n",
    "\n",
    "print('Number of tie games - {0}'.format(tie_count))"
   ]
  },
  {
   "cell_type": "markdown",
   "metadata": {},
   "source": [
    "### Q - values convergence\n",
    "---"
   ]
  },
  {
   "cell_type": "code",
   "execution_count": 29,
   "metadata": {},
   "outputs": [
    {
     "data": {
      "text/plain": [
       "defaultdict(dict,\n",
       "            {'x-7-3-x-2-8-x-5-x': {(0, 1): 0},\n",
       "             'x-1-2-x-7-x-x-6-x': {(3, 3): 559},\n",
       "             '4-x-2-x-5-3-x-x-1': {(7, 7): 0},\n",
       "             '6-x-7-x-x-1-x-x-4': {(1, 5): 553},\n",
       "             'x-x-x-4-9-2-7-x-x': {(1, 1): 552},\n",
       "             'x-x-3-8-2-x-x-x-5': {(7, 1): 425},\n",
       "             '3-x-7-x-x-x-x-8-2': {(5, 5): 581},\n",
       "             '2-x-1-8-x-7-x-x-x': {(4, 3): 543}})"
      ]
     },
     "execution_count": 29,
     "metadata": {},
     "output_type": "execute_result"
    }
   ],
   "source": [
    "state_track_val = collections.defaultdict(dict)\n",
    "\n",
    "for state in tracked_states.keys():\n",
    "    for action in tracked_states[state].keys():\n",
    "        qvals = tracked_states[state][action]\n",
    "        total_tracked_values = len(qvals)\n",
    "        state_track_val[state][action] = total_tracked_values\n",
    "            \n",
    "state_track_val"
   ]
  },
  {
   "cell_type": "markdown",
   "metadata": {},
   "source": [
    "#### draw convergence plot for a state - action pair\n",
    "---"
   ]
  },
  {
   "cell_type": "code",
   "execution_count": 37,
   "metadata": {},
   "outputs": [],
   "source": [
    "def plot_q_val_convergence(state, action):\n",
    "    plt.figure(figsize=(20, 5))\n",
    "    \n",
    "    iterations = state_track_val[state][action]\n",
    "    plt.plot(range(0, iterations), tracked_states[state][action])\n",
    "    \n",
    "    plt.xlabel(\"game iterations\")\n",
    "    plt.ylabel(\"Q_value\")\n",
    "    \n",
    "    plt.title(\"State : {0} - action : {1} - Q_value Update graph\".format(state, action))\n",
    "    plt.legend([\"Q-value\"], loc=\"lower right\")\n",
    "    \n",
    "    plt.show()"
   ]
  },
  {
   "cell_type": "markdown",
   "metadata": {},
   "source": [
    "#### display convergence of tracked states\n",
    "---"
   ]
  },
  {
   "cell_type": "code",
   "execution_count": 38,
   "metadata": {},
   "outputs": [
    {
     "data": {
      "image/png": "[encoded data removed]",
      "text/plain": [
       "<Figure size 1440x360 with 1 Axes>"
      ]
     },
     "metadata": {
      "needs_background": "light"
     },
     "output_type": "display_data"
    }
   ],
   "source": [
    "plot_q_val_convergence('x-1-2-x-7-x-x-6-x', (3,3))"
   ]
  },
  {
   "cell_type": "code",
   "execution_count": 39,
   "metadata": {},
   "outputs": [
    {
     "data": {
      "image/png": "[encoded data removed]",
      "text/plain": [
       "<Figure size 1440x360 with 1 Axes>"
      ]
     },
     "metadata": {
      "needs_background": "light"
     },
     "output_type": "display_data"
    }
   ],
   "source": [
    "plot_q_val_convergence('6-x-7-x-x-1-x-x-4', (1, 5))"
   ]
  },
  {
   "cell_type": "code",
   "execution_count": 44,
   "metadata": {},
   "outputs": [
    {
     "data": {
      "image/png": "[encoded data removed]",
      "text/plain": [
       "<Figure size 1440x360 with 1 Axes>"
      ]
     },
     "metadata": {
      "needs_background": "light"
     },
     "output_type": "display_data"
    }
   ],
   "source": [
    "plot_q_val_convergence('2-x-1-8-x-7-x-x-x', (4, 3))"
   ]
  },
  {
   "cell_type": "code",
   "execution_count": null,
   "metadata": {},
   "outputs": [],
   "source": []
  }
 ],
 "metadata": {
  "kernelspec": {
   "display_name": "Python 3",
   "language": "python",
   "name": "python3"
  },
  "language_info": {
   "codemirror_mode": {
    "name": "ipython",
    "version": 3
   },
   "file_extension": ".py",
   "mimetype": "text/x-python",
   "name": "python",
   "nbconvert_exporter": "python",
   "pygments_lexer": "ipython3",
   "version": "3.7.0"
  }
 },
 "nbformat": 4,
 "nbformat_minor": 2
}
